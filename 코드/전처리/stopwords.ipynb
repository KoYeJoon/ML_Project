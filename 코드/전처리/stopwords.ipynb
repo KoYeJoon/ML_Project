{
 "cells": [
  {
   "cell_type": "code",
   "execution_count": 1,
   "metadata": {
    "_cell_guid": "b1076dfc-b9ad-4769-8c92-a6c4dae69d19",
    "_uuid": "8f2839f25d086af736a60e9eeb907d3b93b6e0e5"
   },
   "outputs": [
    {
     "name": "stdout",
     "output_type": "stream",
     "text": [
      "/kaggle/input/yelp-dataset/yelp_academic_dataset_tip.json\n",
      "/kaggle/input/yelp-dataset/yelp_academic_dataset_checkin.json\n",
      "/kaggle/input/yelp-dataset/yelp_academic_dataset_user.json\n",
      "/kaggle/input/yelp-dataset/yelp_academic_dataset_business.json\n",
      "/kaggle/input/yelp-dataset/yelp_academic_dataset_review.json\n",
      "/kaggle/input/yelp-dataset/Dataset_Agreement.pdf\n",
      "/kaggle/input/yelpstopwords/yelp_stopwords.txt\n"
     ]
    }
   ],
   "source": [
    "# This Python 3 environment comes with many helpful analytics libraries installed\n",
    "# It is defined by the kaggle/python docker image: https://github.com/kaggle/docker-python\n",
    "# For example, here's several helpful packages to load in \n",
    "\n",
    "import numpy as np # linear algebra\n",
    "import pandas as pd # data processing, CSV file I/O (e.g. pd.read_csv)\n",
    "\n",
    "# Input data files are available in the \"../input/\" directory.\n",
    "# For example, running this (by clicking run or pressing Shift+Enter) will list all files under the input directory\n",
    "\n",
    "import os\n",
    "for dirname, _, filenames in os.walk('/kaggle/input'):\n",
    "    for filename in filenames:\n",
    "        print(os.path.join(dirname, filename))\n",
    "\n",
    "# Any results you write to the current directory are saved as output."
   ]
  },
  {
   "cell_type": "code",
   "execution_count": 2,
   "metadata": {
    "_cell_guid": "79c7e3d0-c299-4dcb-8224-4455121ee9b0",
    "_uuid": "d629ff2d2480ee46fbb7e2d37f6b5fab8052498a"
   },
   "outputs": [],
   "source": [
    "import json\n",
    "import pandas as pd \n",
    "import matplotlib.pyplot as plt"
   ]
  },
  {
   "cell_type": "code",
   "execution_count": 3,
   "metadata": {},
   "outputs": [
    {
     "name": "stdout",
     "output_type": "stream",
     "text": [
      "0\n",
      "1000000\n",
      "2000000\n",
      "3000000\n",
      "4000000\n",
      "5000000\n",
      "6000000\n",
      "         stars                                               text\n",
      "0          2.0  As someone who has worked with many museums, I...\n",
      "1          1.0  I am actually horrified this place is still in...\n",
      "2          5.0  I love Deagan's. I do. I really do. The atmosp...\n",
      "3          1.0  Dismal, lukewarm, defrosted-tasting \"TexMex\" g...\n",
      "4          4.0  Oh happy day, finally have a Canes near my cas...\n",
      "...        ...                                                ...\n",
      "5999995    4.0  OverEasy Restaurant. I enjoyed the Bacon and C...\n",
      "5999996    5.0  As a first timer at Viva Las Arepas in Las Veg...\n",
      "5999997    5.0  This place is where I go out of my way couple ...\n",
      "5999998    4.0  Extremely happy with this place! Ordered the l...\n",
      "5999999    5.0  Fantastic service!!! I would call them again i...\n",
      "\n",
      "[6000000 rows x 2 columns]\n"
     ]
    }
   ],
   "source": [
    "\n",
    "yelp = open('/kaggle/input/yelp-dataset/yelp_academic_dataset_review.json')\n",
    "\n",
    "#read the first 6000k entries\n",
    "stop = 6000000 \n",
    "all_data=list()\n",
    "for i, line in enumerate(yelp):\n",
    "    if i%1000000==0: print(i)\n",
    "    if i==stop: break\n",
    "    data=json.loads(line)\n",
    "    text=data['text']\n",
    "    stars=data['stars']\n",
    "    all_data.append([stars, text])\n",
    "    \n",
    "df= pd.DataFrame(all_data, columns=['stars','text'])\n",
    "print(df)\n",
    "\n",
    "yelp.close()"
   ]
  },
  {
   "cell_type": "code",
   "execution_count": 4,
   "metadata": {},
   "outputs": [
    {
     "name": "stdout",
     "output_type": "stream",
     "text": [
      "[1.0, 2.0, 3.0, 4.0, 5.0]\n"
     ]
    },
    {
     "data": {
      "text/plain": [
       "Text(0, 0.5, 'number')"
      ]
     },
     "execution_count": 4,
     "metadata": {},
     "output_type": "execute_result"
    },
    {
     "data": {
      "image/png": "[encoded data removed]",
      "text/plain": [
       "<Figure size 432x288 with 1 Axes>"
      ]
     },
     "metadata": {
      "needs_background": "light"
     },
     "output_type": "display_data"
    }
   ],
   "source": [
    "stars=df['stars']\n",
    "print(sorted(stars.unique())) #고유값 나열\n",
    "plt.hist(stars, bins=5, rwidth=0.85)\n",
    "plt.title('Distribution of stars')\n",
    "plt.xlabel('stars')\n",
    "plt.ylabel('number')"
   ]
  },
  {
   "cell_type": "code",
   "execution_count": 5,
   "metadata": {},
   "outputs": [
    {
     "data": {
      "image/png": "[encoded data removed]",
      "text/plain": [
       "<Figure size 432x288 with 1 Axes>"
      ]
     },
     "metadata": {
      "needs_background": "light"
     },
     "output_type": "display_data"
    },
    {
     "name": "stdout",
     "output_type": "stream",
     "text": [
      "리뷰의 최대 길이 : 5000\n",
      "리뷰의 평균 길이 : 589.96\n",
      "리뷰의 중앙값 길이 : 416.00\n"
     ]
    }
   ],
   "source": [
    "import numpy as np\n",
    "\n",
    "plt.clf() #clear previous figure\n",
    "plt.hist(df['text'].str.len(),bins=100)\n",
    "plt.title('Distribution of review length')\n",
    "plt.xlabel('review length')\n",
    "plt.ylabel('number')\n",
    "plt.show()\n",
    "\n",
    "len_result = [len(s) for s in df['text']]\n",
    "print('리뷰의 최대 길이 : {}'.format(np.max(len_result)))\n",
    "print('리뷰의 평균 길이 : {:.2f}'.format(np.mean(len_result)))\n",
    "print('리뷰의 중앙값 길이 : {:.2f}'.format(np.median(len_result)))"
   ]
  },
  {
   "cell_type": "code",
   "execution_count": 6,
   "metadata": {},
   "outputs": [
    {
     "name": "stdout",
     "output_type": "stream",
     "text": [
      "952507 475306 1256779 2683081\n"
     ]
    }
   ],
   "source": [
    "star_1=df.loc[df.stars==1.0].copy()\n",
    "star_2=df.loc[df.stars==2.0].copy()\n",
    "star_3=df.loc[df.stars==3.0].copy()\n",
    "star_4=df.loc[df.stars==4.0].copy()\n",
    "star_5=df.loc[df.stars==5.0].copy()\n",
    "\n",
    "print(len(star_1),len(star_2),len(star_4),len(star_5)) "
   ]
  },
  {
   "cell_type": "code",
   "execution_count": 7,
   "metadata": {},
   "outputs": [
    {
     "name": "stdout",
     "output_type": "stream",
     "text": [
      "    stars                                               text\n",
      "1     1.0  I am actually horrified this place is still in...\n",
      "3     1.0  Dismal, lukewarm, defrosted-tasting \"TexMex\" g...\n",
      "15    1.0  If I could give less than one star, that would...\n",
      "16    1.0  10pm on a super bowl Sunday and they're alread...\n",
      "18    1.0  Tried to have my car repaired.  Even made an a...     stars                                               text\n",
      "0     2.0  As someone who has worked with many museums, I...\n",
      "32    2.0  This actually used to be one of my favorite ho...\n",
      "63    2.0  Decent food. Fishermen lobster or even congee ...\n",
      "78    2.0  Pros: Fun atmosphere, great for people watchin...\n",
      "86    2.0  I love bookstores, and I love to spend some ti...     stars                                               text\n",
      "19    3.0  My husband and I go there once a week since la...\n",
      "34    3.0  The service is attentive. The decor attractive...\n",
      "41    3.0  I stayed here back in April. Friday-Sunday. It...\n",
      "42    3.0  Had brunch here Sunday with a friend. The meal...\n",
      "44    3.0  Was super excited to bring my boyfriend to thi...     stars                                               text\n",
      "4     4.0  Oh happy day, finally have a Canes near my cas...\n",
      "9     4.0  I have been here twice. Very nice and laid bac...\n",
      "11    4.0  ORDER In (Delivery) Review\\n\\nI discovered thi...\n",
      "17    4.0  A close friend was in town and so instead of t...\n",
      "22    4.0  Coconut's Fish Cafe is a fantastic, Five Stars...    stars                                               text\n",
      "2    5.0  I love Deagan's. I do. I really do. The atmosp...\n",
      "5    5.0  This is definitely my favorite fast food sub s...\n",
      "6    5.0  Really good place with simple decor, amazing f...\n",
      "7    5.0  Awesome office and staff, very professional an...\n",
      "8    5.0  Most delicious authentic Italian I've had in t...\n"
     ]
    }
   ],
   "source": [
    "print(star_1.head(),star_2.head(),star_3.head(),star_4.head(),star_5.head(),)"
   ]
  },
  {
   "cell_type": "code",
   "execution_count": 8,
   "metadata": {},
   "outputs": [
    {
     "name": "stdout",
     "output_type": "stream",
     "text": [
      "1427813 1500000 2927813\n",
      "   stars                                               text\n",
      "0    0.0  I am actually horrified this place is still in...\n",
      "1    0.0  Dismal, lukewarm, defrosted-tasting \"TexMex\" g...\n",
      "2    0.0  If I could give less than one star, that would...\n",
      "3    0.0  10pm on a super bowl Sunday and they're alread...\n",
      "4    0.0  Tried to have my car repaired.  Even made an a...          stars                                               text\n",
      "2927808    1.0  I walked in and after a very brief conversatio...\n",
      "2927809    1.0  First off, this place has been on my bucket li...\n",
      "2927810    1.0  I absolutely love this office. The team as a w...\n",
      "2927811    1.0  This is our new fried Seafood place in this pa...\n",
      "2927812    1.0  It was my first time getting a Brazilian wax, ...\n"
     ]
    }
   ],
   "source": [
    "star_bad=pd.concat([star_1, star_2]) \n",
    "star_good=pd.concat([star_4[:500000], star_5[:1000000]]) \n",
    "\n",
    "star_bad.loc[:,'stars']=0.0\n",
    "star_good.loc[:,'stars']=1.0\n",
    "\n",
    "df2=pd.concat([star_bad,star_good])\n",
    "print(len(star_bad),len(star_good),len(df2))\n",
    "df2.reset_index(drop=True, inplace=True)\n",
    "print(df2.head(),df2.tail())"
   ]
  },
  {
   "cell_type": "code",
   "execution_count": 9,
   "metadata": {},
   "outputs": [],
   "source": [
    "df2.to_pickle(\"df2.pkl\")"
   ]
  },
  {
   "cell_type": "code",
   "execution_count": 10,
   "metadata": {},
   "outputs": [],
   "source": [
    "#import os\n",
    "#os.remove(\"/kaggle/working/yelp_stopwords.txt\")"
   ]
  },
  {
   "cell_type": "code",
   "execution_count": 11,
   "metadata": {},
   "outputs": [
    {
     "data": {
      "text/plain": [
       "'\\npin=100000\\ntexts=[]\\nfor i, line in enumerate(df2.loc[:,\\'text\\']): #index와 value 동시에 접근\\n    line = line.lower()\\n    word_tokens = word_tokenize(line)\\n    result=[]\\n    for w in word_tokens:\\n        if w not in stop_words:\\n            result.append(w)\\n    line_f=\\' \\'.join(result)\\n    texts.append(line_f)\\n    if i>0 and i%pin==0: \\n        print(i,end=\\'\\')\\n        with open(\\'yelp_stopwords.txt\\', \\'a\\') as f:\\n            for j in range(i-pin,i):\\n                f.write(\"%s\\n\" % texts[j])\\n'"
      ]
     },
     "execution_count": 11,
     "metadata": {},
     "output_type": "execute_result"
    }
   ],
   "source": [
    "#불용어 제거 \n",
    "\n",
    "import nltk\n",
    "from nltk.tokenize import word_tokenize\n",
    "#nltk.download('punkt')\n",
    "#nltk.download('stopwords')\n",
    "from nltk.corpus import stopwords\n",
    "stop_words=set(stopwords.words('english'))\n",
    "\n",
    "'''\n",
    "pin=100000\n",
    "texts=[]\n",
    "for i, line in enumerate(df2.loc[:,'text']): #index와 value 동시에 접근\n",
    "    line = line.lower()\n",
    "    word_tokens = word_tokenize(line)\n",
    "    result=[]\n",
    "    for w in word_tokens:\n",
    "        if w not in stop_words:\n",
    "            result.append(w)\n",
    "    line_f=' '.join(result)\n",
    "    texts.append(line_f)\n",
    "    if i>0 and i%pin==0: \n",
    "        print(i,end='')\n",
    "        with open('yelp_stopwords.txt', 'a') as f:\n",
    "            for j in range(i-pin,i):\n",
    "                f.write(\"%s\\n\" % texts[j])\n",
    "'''\n",
    "\n",
    "    \n",
    "    "
   ]
  },
  {
   "cell_type": "code",
   "execution_count": null,
   "metadata": {},
   "outputs": [],
   "source": []
  }
 ],
 "metadata": {
  "kernelspec": {
   "display_name": "Python 3",
   "language": "python",
   "name": "python3"
  },
  "language_info": {
   "codemirror_mode": {
    "name": "ipython",
    "version": 3
   },
   "file_extension": ".py",
   "mimetype": "text/x-python",
   "name": "python",
   "nbconvert_exporter": "python",
   "pygments_lexer": "ipython3",
   "version": "3.7.6"
  }
 },
 "nbformat": 4,
 "nbformat_minor": 4
}
