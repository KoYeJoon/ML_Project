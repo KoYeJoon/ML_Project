{
 "cells": [
  {
   "cell_type": "code",
   "execution_count": 21,
   "metadata": {},
   "outputs": [
    {
     "name": "stdout",
     "output_type": "stream",
     "text": [
      "(8831, 1) 8831\n",
      "recall =  0.14935643377495944 \n",
      "precision =  0.1538425244404182 \n",
      "rouge =  0.15032074959602987\n"
     ]
    }
   ],
   "source": [
    "from rouge.rouge import rouge_n_sentence_level\n",
    "import pandas as pd \n",
    "\n",
    "pre_sum = pd.read_pickle(r\"C:\\Users\\User22\\Desktop\\input\\summary_predict.pkl\")\n",
    "real_sum = pd.read_pickle(r\"C:\\Users\\User22\\Desktop\\input\\summary_origin.pkl\")\n",
    "print(pre_sum.shape,real_sum.shape[0])\n",
    "#print(pre_sum[0])\n",
    "sum_recall=0\n",
    "sum_precision=0\n",
    "sum_rouge=0\n",
    "\n",
    "for i in range(real_sum.shape[0]):\n",
    "    summary_sentence = pre_sum[0][i].split()\n",
    "    reference_sentence = real_sum[0][i].split()\n",
    "    recall, precision, rouge = rouge_n_sentence_level(summary_sentence, reference_sentence, 2)\n",
    "    sum_recall = sum_recall + recall\n",
    "    sum_precision = sum_precision + precision\n",
    "    sum_rouge = sum_rouge + rouge\n",
    "sum_recall = sum_recall/real_sum.shape[0]\n",
    "sum_precision = sum_precision/real_sum.shape[0]\n",
    "sum_rouge = sum_rouge/real_sum.shape[0]\n",
    "print(\"recall = \",sum_recall,\"\\nprecision = \",sum_precision,\"\\nrouge = \",sum_rouge) "
   ]
  }
 ],
 "metadata": {
  "kernelspec": {
   "display_name": "Python 3",
   "language": "python",
   "name": "python3"
  },
  "language_info": {
   "codemirror_mode": {
    "name": "ipython",
    "version": 3
   },
   "file_extension": ".py",
   "mimetype": "text/x-python",
   "name": "python",
   "nbconvert_exporter": "python",
   "pygments_lexer": "ipython3",
   "version": "3.8.2"
  }
 },
 "nbformat": 4,
 "nbformat_minor": 4
}
